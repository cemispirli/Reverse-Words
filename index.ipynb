{
 "cells": [
  {
   "cell_type": "code",
   "execution_count": 4,
   "id": "cc868b0b",
   "metadata": {},
   "outputs": [
    {
     "name": "stdout",
     "output_type": "stream",
     "text": [
      "bir cümle giriniz : dünya\n",
      "a y n ü d\n"
     ]
    }
   ],
   "source": [
    "word = input(\"bir cümle giriniz : \")\n",
    "\n",
    "reversedword = \"\"\n",
    "\n",
    "for i in reversed(word):\n",
    "    reversedword += i\n",
    "    \n",
    "# print(reversedword)\n",
    "print(*reversed(word))"
   ]
  },
  {
   "cell_type": "code",
   "execution_count": 6,
   "id": "b57f2fb6",
   "metadata": {},
   "outputs": [
    {
     "name": "stdout",
     "output_type": "stream",
     "text": [
      "bir cümle giriniz : merhaba\n",
      "abahrem\n"
     ]
    }
   ],
   "source": [
    "word = input(\"bir cümle giriniz : \")\n",
    "def reve():\n",
    "    return word[::-1]\n",
    "\n",
    "print(reve())"
   ]
  },
  {
   "cell_type": "code",
   "execution_count": null,
   "id": "1960eb6e",
   "metadata": {},
   "outputs": [],
   "source": []
  },
  {
   "cell_type": "code",
   "execution_count": null,
   "id": "770445fd",
   "metadata": {},
   "outputs": [],
   "source": []
  }
 ],
 "metadata": {
  "kernelspec": {
   "display_name": "Python 3",
   "language": "python",
   "name": "python3"
  },
  "language_info": {
   "codemirror_mode": {
    "name": "ipython",
    "version": 3
   },
   "file_extension": ".py",
   "mimetype": "text/x-python",
   "name": "python",
   "nbconvert_exporter": "python",
   "pygments_lexer": "ipython3",
   "version": "3.8.8"
  }
 },
 "nbformat": 4,
 "nbformat_minor": 5
}
